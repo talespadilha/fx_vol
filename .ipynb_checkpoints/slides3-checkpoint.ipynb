{
 "cells": [
  {
   "cell_type": "code",
   "execution_count": 1,
   "metadata": {
    "slideshow": {
     "slide_type": "skip"
    }
   },
   "outputs": [],
   "source": [
    "#!/usr/bin/env python3\n",
    "# -*- coding: utf-8 -*-\n",
    "\"\"\"\n",
    "Study of nominal exchange rate volatility\n",
    "    Created: Nov 2019\n",
    "    @author: talespadilha\n",
    "\"\"\"\n",
    "import os\n",
    "os.chdir('/Users/talespadilha/Documents/Projects/fx_vol')\n",
    "\n",
    "import numpy as np\n",
    "import pandas as pd\n",
    "import statsmodels.api as sm\n",
    "import general_functions as gf\n",
    "from arch import arch_model\n",
    "from nominal_fx_data import nominal_import\n",
    "from garch_selection import garch_volatility\n",
    "\n",
    "import statsmodels.api as sm\n",
    "\n",
    "\n",
    "def est_ols_ar(series, factors):\n",
    "    y = series[~series.isna()]\n",
    "    factors = factors[~series.isna()]\n",
    "    x = pd.concat([factors.rename('f'), y.shift(1).rename('lag')], axis=1)\n",
    "    x = sm.add_constant(x)\n",
    "    mod = sm.OLS(y[1:], x[1:])\n",
    "    res = mod.fit()\n",
    "\n",
    "    return res\n",
    "\n",
    "def est_ols(series, factors):\n",
    "    x = sm.add_constant(factors.rename('f'))\n",
    "    y = series[~series.isna()]\n",
    "    x = x[~series.isna()]\n",
    "    mod = sm.OLS(y, x)\n",
    "    res = mod.fit()\n",
    "\n",
    "    return res\n",
    "\n",
    "\n",
    "def corr_list(df):\n",
    "    l=[]\n",
    "    for i in range(len(df)):\n",
    "        for j in range(i):\n",
    "            if i>j:\n",
    "                l.append(df.iloc[i,j])\n",
    "    ls = pd.Series(l)\n",
    "                \n",
    "    return ls\n",
    "\n",
    "def garch11(series):\n",
    "    mod = arch_model(series, p=1, o=0, q=1)\n",
    "    vol = mod.fit(disp=\"off\").conditional_volatility\n",
    "    \n",
    "    return vol\n",
    "\n",
    "\n",
    "def calc_rv(df, freq='MS'):\n",
    "    squared=df**2\n",
    "    final_df = squared.resample(freq).mean()\n",
    "    \n",
    "    return final_df\n",
    "                \n",
    "\n",
    "path = '/Users/talespadilha/Documents/Oxford/Research/Real Exchange Rate Volatility/Data Files/'\n",
    "\n",
    "\n",
    "#%% Importing Data\n",
    "fx = nominal_import('2000-01-01', '2020-06-30', path)\n",
    "# Adding CLP\n",
    "clp = pd.read_csv(path+'clp.csv', index_col=0, parse_dates=True)\n",
    "ids = fx.index[~fx['EUR'].apply(np.isnan)]\n",
    "fx['CLP'] = clp.loc[ids, :]\n",
    "fx = fx.reindex(sorted(fx.columns), axis=1)\n",
    "\n",
    "\n",
    "# Getting returns and getting rid of extreme values\n",
    "r_fx = (fx.pct_change()*100).dropna(how='all')\n",
    "r_fx[r_fx>10] = 10\n",
    "r_fx[r_fx<-10] = -10\n",
    "\n",
    "EMS, DMS = gf.markets_set(r_fx, path)"
   ]
  },
  {
   "cell_type": "markdown",
   "metadata": {},
   "source": [
    "Following Engle & Martins (WP) we estimate the following one factor model to control for first moments:\n",
    "\n",
    "$$ r_{i,t} = \\alpha_i + \\beta_i f_t + diag\\{\\sqrt{h_t}\\} e_{i,t} $$\n",
    "\n",
    "where $f_t$ is just the mean return of the exchange rates for day $t$. \n",
    "\n",
    "Or alternatively controlling for autocorrelation:\n",
    "\n",
    "$$ r_{i,t} = \\alpha_i + \\phi_i r_{i,t-1} + \\beta_i f_t + diag\\{\\sqrt{h_t}\\} e_{i,t} $$\n",
    "\n",
    "We do this in two settings:\n",
    "\n",
    "* Analysing one factor $f_t$ and considering all 29 countries as part of the same group\n",
    "* One $f^{EM}_t$ factor for EMs and $f^{DM}_t$ factor for DMs and proceeding separately for EMs and DMs"
   ]
  },
  {
   "cell_type": "markdown",
   "metadata": {
    "slideshow": {
     "slide_type": "slide"
    }
   },
   "source": [
    "# Geopolitical Risk and The PPP Puzzle\n",
    "\n",
    "## Explaining FX Volatility Using a GEOVOL\n",
    "\n",
    "### Susana Campos-Martins and Tales Padilha"
   ]
  },
  {
   "cell_type": "code",
   "execution_count": 58,
   "metadata": {
    "slideshow": {
     "slide_type": "slide"
    }
   },
   "outputs": [],
   "source": [
    "#EMS \n",
    "countries = DMS + EMS\n",
    "\n",
    "f = r_fx[countries].mean(axis=1)\n",
    "\n",
    "# Estimating the mean factor model\n",
    "    # First checking the AR behaviour:\n",
    "t = {}\n",
    "for country in countries:\n",
    "    res = est_ols_ar(r_fx[country], f)\n",
    "    t[country] = res.tvalues['lag']\n",
    "tstats = pd.Series(t)\n",
    "\n",
    "e={}\n",
    "b={}\n",
    "for country in countries:\n",
    "    if abs(tstats[country])>1.96:       \n",
    "        res = est_ols_ar(r_fx[country], f)\n",
    "    else:\n",
    "        res = est_ols(r_fx[country], f)\n",
    "    e[country] = res.resid\n",
    "    b[country] = res.params\n",
    "e_hat = pd.concat(e, axis=1)\n",
    "betas = pd.concat(b, axis=1)\n",
    "\n",
    "\n",
    "e_hat10 = e_hat*10\n",
    "v = {}\n",
    "m = {}\n",
    "for country in e_hat10:\n",
    "    v[country] = garch11(e_hat10[country].dropna())  \n",
    "vol = pd.concat(v, axis=1)/10\n",
    "\n",
    "std_e = e_hat/vol\n",
    "se2 = std_e**2\n",
    "\n",
    "#%% Importing GEOVOL data\n",
    "x_daily = pd.read_csv(path+'geovols/daily_all.csv', index_col=0)\n",
    "x_daily.index = pd.to_datetime(x_daily.index, format='%d/%m/%Y')\n",
    "s = pd.read_csv(path+'geovols/s_all.csv', index_col=0)\n",
    "x_monthly = x_daily.resample('MS').mean()\n",
    "\n",
    "g = {}\n",
    "ccs = list(std_e.columns)\n",
    "for country in ccs:\n",
    "    g[country] = (s.loc[country].values * x_daily) + 1 - s.loc[country].values\n",
    "g = pd.concat(g, axis=1)\n",
    "g.columns = g.columns.droplevel(1)\n",
    "\n",
    "# Checking monthly\n",
    "g_monthly = {}\n",
    "for country in ccs:\n",
    "    g_monthly[country] = (s.loc[country].values * x_monthly) + 1 - s.loc[country].values\n",
    "g_monthly = pd.concat(g_monthly, axis=1)\n",
    "g_monthly.columns = g_monthly.columns.droplevel(1)"
   ]
  },
  {
   "cell_type": "markdown",
   "metadata": {
    "slideshow": {
     "slide_type": "slide"
    }
   },
   "source": [
    "Lets start by taking a look at the correlation in $r_{i,t}$\n",
    "\n",
    "We will look at cross sectional correlation."
   ]
  },
  {
   "cell_type": "code",
   "execution_count": 59,
   "metadata": {
    "scrolled": false,
    "slideshow": {
     "slide_type": "subslide"
    }
   },
   "outputs": [
    {
     "name": "stdout",
     "output_type": "stream",
     "text": [
      "Mean Return Corr: 0.34293323616304394\n"
     ]
    },
    {
     "data": {
      "image/png": "[encoded data removed]",
      "text/plain": [
       "<Figure size 432x288 with 1 Axes>"
      ]
     },
     "metadata": {
      "needs_background": "light"
     },
     "output_type": "display_data"
    }
   ],
   "source": [
    "# Returns\n",
    "corr_list(r_fx[countries].corr()).hist()\n",
    "print(f\"Mean Return Corr: {corr_list(r_fx[countries].corr()).mean()}\")"
   ]
  },
  {
   "cell_type": "markdown",
   "metadata": {
    "slideshow": {
     "slide_type": "slide"
    }
   },
   "source": [
    "Now looking at standarized residuals $e_{i,t}$\n",
    "\n",
    "We will look at cross sectional correlation."
   ]
  },
  {
   "cell_type": "code",
   "execution_count": 60,
   "metadata": {
    "scrolled": true,
    "slideshow": {
     "slide_type": "subslide"
    }
   },
   "outputs": [
    {
     "name": "stdout",
     "output_type": "stream",
     "text": [
      "Mean Residual Corr: -0.018188932126712833\n"
     ]
    },
    {
     "data": {
      "image/png": "[encoded data removed]",
      "text/plain": [
       "<Figure size 432x288 with 1 Axes>"
      ]
     },
     "metadata": {
      "needs_background": "light"
     },
     "output_type": "display_data"
    }
   ],
   "source": [
    "# Standarized residuals\n",
    "corr_list(std_e.corr()).hist()\n",
    "print(f\"Mean Residual Corr: {corr_list(std_e.corr()).mean()}\")"
   ]
  },
  {
   "cell_type": "markdown",
   "metadata": {
    "slideshow": {
     "slide_type": "slide"
    }
   },
   "source": [
    "To check common shocks to second moments, lets take a look at the correlation of squared standarized residuals $e^2_{i,t}$"
   ]
  },
  {
   "cell_type": "code",
   "execution_count": 61,
   "metadata": {
    "scrolled": false,
    "slideshow": {
     "slide_type": "subslide"
    }
   },
   "outputs": [
    {
     "name": "stdout",
     "output_type": "stream",
     "text": [
      "Mean e2 Corr: 0.07942552722753196\n"
     ]
    },
    {
     "data": {
      "image/png": "[encoded data removed]",
      "text/plain": [
       "<Figure size 432x288 with 1 Axes>"
      ]
     },
     "metadata": {
      "needs_background": "light"
     },
     "output_type": "display_data"
    }
   ],
   "source": [
    "# Squared Residuals\n",
    "corr_list(se2.corr()).hist()\n",
    "print(f\"Mean e2 Corr: {corr_list(se2.corr()).mean()}\")"
   ]
  },
  {
   "cell_type": "markdown",
   "metadata": {
    "slideshow": {
     "slide_type": "slide"
    }
   },
   "source": [
    "We will now use the estimated GEOVOL to calculate the correlation in $e^2_{i,t}$ after being standarized by GEOVOL:\n",
    "\n",
    "$$ \\epsilon^2_{i,t} = \\frac{e^2_{i,t}}{g(s_i , x_t)} $$\n",
    "\n",
    "with $ g(s_i , x_t) = s_i x_t + 1 - s_i $"
   ]
  },
  {
   "cell_type": "code",
   "execution_count": 62,
   "metadata": {
    "scrolled": true,
    "slideshow": {
     "slide_type": "subslide"
    }
   },
   "outputs": [
    {
     "name": "stdout",
     "output_type": "stream",
     "text": [
      "Mean epsilon Corr: 0.018739770988079656\n"
     ]
    },
    {
     "data": {
      "image/png": "[encoded data removed]",
      "text/plain": [
       "<Figure size 432x288 with 1 Axes>"
      ]
     },
     "metadata": {
      "needs_background": "light"
     },
     "output_type": "display_data"
    }
   ],
   "source": [
    "# Epsilon\n",
    "epsilon = se2 / g\n",
    "corr_list(epsilon.corr()).hist()\n",
    "print(f\"Mean epsilon Corr: {corr_list(epsilon.corr()).mean()}\")"
   ]
  },
  {
   "cell_type": "markdown",
   "metadata": {
    "slideshow": {
     "slide_type": "slide"
    }
   },
   "source": [
    "Now looking at realized values in a monthly frequency. That is, we will consider correlation in:\n",
    "\n",
    "$$ R e_{i,m} = \\sum_{t=1}^D \\frac{e_{i,t}}{D} $$"
   ]
  },
  {
   "cell_type": "code",
   "execution_count": 63,
   "metadata": {
    "scrolled": true,
    "slideshow": {
     "slide_type": "subslide"
    }
   },
   "outputs": [
    {
     "name": "stdout",
     "output_type": "stream",
     "text": [
      "Mean Monthly Residual Corr: -0.019728643241094176\n"
     ]
    },
    {
     "data": {
      "image/png": "[encoded data removed]",
      "text/plain": [
       "<Figure size 432x288 with 1 Axes>"
      ]
     },
     "metadata": {
      "needs_background": "light"
     },
     "output_type": "display_data"
    }
   ],
   "source": [
    "# Taking a look at monthly\n",
    "month_e = std_e.resample('MS').mean()\n",
    "corr_list(month_e.corr()).hist()\n",
    "print(f\"Mean Monthly Residual Corr: {corr_list(month_e.corr()).mean()}\")"
   ]
  },
  {
   "cell_type": "markdown",
   "metadata": {
    "slideshow": {
     "slide_type": "slide"
    }
   },
   "source": [
    "Now looking at realized second moment. That is, we will consider correlation in:\n",
    "\n",
    "$$ R e_{i,m}^2 = \\sum_{t=1}^D \\frac{e_{i,t}^2}{D} $$"
   ]
  },
  {
   "cell_type": "code",
   "execution_count": 64,
   "metadata": {
    "scrolled": false,
    "slideshow": {
     "slide_type": "subslide"
    }
   },
   "outputs": [
    {
     "name": "stdout",
     "output_type": "stream",
     "text": [
      "Mean Monthly Squared Residual Corr: 0.19015278167050337\n"
     ]
    },
    {
     "data": {
      "image/png": "[encoded data removed]",
      "text/plain": [
       "<Figure size 432x288 with 1 Axes>"
      ]
     },
     "metadata": {
      "needs_background": "light"
     },
     "output_type": "display_data"
    }
   ],
   "source": [
    "# Taking a look at monthly\n",
    "month_se2 = se2.resample('MS').mean()\n",
    "corr_list(month_se2.corr()).hist()\n",
    "print(f\"Mean Monthly Squared Residual Corr: {corr_list(month_se2.corr()).mean()}\")"
   ]
  },
  {
   "cell_type": "markdown",
   "metadata": {
    "slideshow": {
     "slide_type": "slide"
    }
   },
   "source": [
    "Finally, doing the same for the standarized residual corrected by GEOVOL. That is, we will consider correlation in:\n",
    "\n",
    "$$ R \\epsilon_{i,m}^2 = \\sum_{t=1}^D \\frac{\\epsilon_{i,t}^2}{D} $$"
   ]
  },
  {
   "cell_type": "code",
   "execution_count": 66,
   "metadata": {
    "scrolled": true,
    "slideshow": {
     "slide_type": "subslide"
    }
   },
   "outputs": [
    {
     "name": "stdout",
     "output_type": "stream",
     "text": [
      "Mean epsilon Corr: 0.07623832358124549\n"
     ]
    },
    {
     "data": {
      "image/png": "[encoded data removed]",
      "text/plain": [
       "<Figure size 432x288 with 1 Axes>"
      ]
     },
     "metadata": {
      "needs_background": "light"
     },
     "output_type": "display_data"
    }
   ],
   "source": [
    "epsilon_m = epsilon.resample('MS').mean()\n",
    "corr_list(epsilon_m.corr()).hist()\n",
    "print(f\"Mean epsilon Corr: {corr_list(epsilon_m.corr()).mean()}\")"
   ]
  },
  {
   "cell_type": "code",
   "execution_count": 67,
   "metadata": {
    "slideshow": {
     "slide_type": "slide"
    }
   },
   "outputs": [
    {
     "name": "stdout",
     "output_type": "stream",
     "text": [
      "19.4844734492696\n"
     ]
    }
   ],
   "source": [
    "#TESTING FOR GEOVOL\n",
    "psi = epsilon - 1\n",
    "\n",
    "# Testing for GEOVOL\n",
    "N = psi.shape[1]\n",
    "T = psi.shape[0]\n",
    "\n",
    "a=[]\n",
    "for i in range(N):\n",
    "    for j in range(i):\n",
    "        if i>j:\n",
    "            for t in range(T):\n",
    "                a.append(psi.iloc[t,i]*psi.iloc[t,j])\n",
    "a_series = pd.Series(a)\n",
    "\n",
    "b=[]\n",
    "for i in range(N):\n",
    "    for t in range(T):\n",
    "        b.append(psi.iloc[t,i]**2)\n",
    "b_series = pd.Series(b)\n",
    "\n",
    "xi = np.sqrt((N*T)/((N-1)/2)) * (a_series.sum()/b_series.sum())\n",
    "print(xi)"
   ]
  },
  {
   "cell_type": "code",
   "execution_count": 69,
   "metadata": {},
   "outputs": [
    {
     "data": {
      "text/plain": [
       "EUR    -5.189730\n",
       "JPY    -5.929012\n",
       "GBP    -7.739291\n",
       "AUD    -4.070896\n",
       "CAD    -4.339716\n",
       "CHF   -19.126172\n",
       "HKD   -28.992692\n",
       "NZD    -4.688109\n",
       "SEK    -5.012333\n",
       "SGD    -7.684545\n",
       "NOK    -6.631202\n",
       "DKK    -5.189585\n",
       "ILS    -6.333207\n",
       "CNY   -18.058640\n",
       "KRW    -5.334835\n",
       "MXN    -4.421569\n",
       "INR    -6.789535\n",
       "RUB    -4.873017\n",
       "ZAR    -5.537876\n",
       "TRY    -7.118357\n",
       "BRL    -5.338811\n",
       "TWD    -6.657567\n",
       "PLN    -5.715049\n",
       "THB    -5.634633\n",
       "IDR   -11.736965\n",
       "HUF    -7.495853\n",
       "CZK    -6.234041\n",
       "CLP    -4.247495\n",
       "PHP    -8.618681\n",
       "dtype: float64"
      ]
     },
     "execution_count": 69,
     "metadata": {},
     "output_type": "execute_result"
    }
   ],
   "source": [
    "std_e.min()"
   ]
  }
 ],
 "metadata": {
  "celltoolbar": "Slideshow",
  "kernelspec": {
   "display_name": "Python 3",
   "language": "python",
   "name": "python3"
  },
  "language_info": {
   "codemirror_mode": {
    "name": "ipython",
    "version": 3
   },
   "file_extension": ".py",
   "mimetype": "text/x-python",
   "name": "python",
   "nbconvert_exporter": "python",
   "pygments_lexer": "ipython3",
   "version": "3.7.6"
  }
 },
 "nbformat": 4,
 "nbformat_minor": 4
}
