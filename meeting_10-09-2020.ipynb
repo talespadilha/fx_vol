{
 "cells": [
  {
   "cell_type": "code",
   "execution_count": 1,
   "metadata": {
    "slideshow": {
     "slide_type": "skip"
    }
   },
   "outputs": [],
   "source": [
    "import os\n",
    "os.chdir('/Users/talespadilha/Documents/Projects/fx_vol')\n",
    "\n",
    "import numpy as np\n",
    "import pandas as pd\n",
    "import matplotlib.pyplot as plt\n",
    "import statsmodels.api as sm\n",
    "import general_functions as gf\n",
    "from arch import arch_model\n",
    "from nominal_fx_data import nominal_import\n",
    "from garch_selection import garch_volatility\n",
    "\n",
    "\n",
    "def est_ols_ar(series, factors):\n",
    "    y = series[~series.isna()]\n",
    "    factors = factors[~series.isna()]\n",
    "    x = pd.concat([factors.rename('f'), y.shift(1).rename('lag')], axis=1)\n",
    "    x = sm.add_constant(x)\n",
    "    mod = sm.OLS(y[1:], x[1:])\n",
    "    res = mod.fit()\n",
    "\n",
    "    return res\n",
    "\n",
    "\n",
    "def est_ols(series, factors):\n",
    "    x = sm.add_constant(factors.rename('f'))\n",
    "    y = series[~series.isna()]\n",
    "    x = x[~series.isna()]\n",
    "    mod = sm.OLS(y, x)\n",
    "    res = mod.fit()\n",
    "\n",
    "    return res\n",
    "\n",
    "\n",
    "def corr_list(df):\n",
    "    l=[]\n",
    "    for i in range(len(df)):\n",
    "        for j in range(i):\n",
    "            if i>j:\n",
    "                l.append(df.iloc[i,j])\n",
    "    ls = pd.Series(l)\n",
    "                \n",
    "    return ls\n",
    "\n",
    "\n",
    "def garch11(series):\n",
    "    mod = arch_model(series, p=1, o=0, q=1)\n",
    "    vol = mod.fit(disp=\"off\").conditional_volatility\n",
    "    \n",
    "    return vol\n",
    "\n",
    "\n",
    "def calc_rv(df, freq='MS'):\n",
    "    squared=df**2\n",
    "    final_df = squared.resample(freq).mean()\n",
    "    \n",
    "    return final_df\n",
    "                \n",
    "\n",
    "path = '/Users/talespadilha/Documents/Oxford/Research/Real Exchange Rate Volatility/Data Files/'"
   ]
  },
  {
   "cell_type": "code",
   "execution_count": 2,
   "metadata": {
    "slideshow": {
     "slide_type": "skip"
    }
   },
   "outputs": [],
   "source": [
    "fx = pd.read_csv('fx.csv', header=[0], index_col = [0])"
   ]
  },
  {
   "cell_type": "code",
   "execution_count": 3,
   "metadata": {
    "slideshow": {
     "slide_type": "skip"
    }
   },
   "outputs": [],
   "source": [
    "# Getting returns and getting rid of extreme values\n",
    "r_fx = (fx.pct_change()*100).dropna(how='all')\n",
    "r_fx[r_fx>10] = 10\n",
    "r_fx[r_fx<-10] = -10\n",
    "\n",
    "EMS, DMS = gf.markets_set(r_fx, path)"
   ]
  },
  {
   "cell_type": "markdown",
   "metadata": {
    "slideshow": {
     "slide_type": "slide"
    }
   },
   "source": [
    "# Geopolitical Risk and The PPP Puzzle\n",
    "\n",
    "\n",
    "### Explaining FX Volatility Using a GEVOL\n",
    "\n",
    "\n",
    "Susana Campos-Martins and Tales Padilha"
   ]
  },
  {
   "cell_type": "markdown",
   "metadata": {
    "slideshow": {
     "slide_type": "subslide"
    }
   },
   "source": [
    "We estimated the following CS-ARDL panel framework:\n",
    "\n",
    "$$ \\sigma^{2R}_{i,t} = \\eta_i + \\alpha_i \\sigma^{2R}_{i,t-1} + \\beta_{i,1} \\sigma^{EP}_{i,t} + \\beta_{i,2} \\sigma^{2E}_{i,t} + \\beta_{i,3} \\sigma^{2P}_{i,t} + \\gamma_i \\bar{\\sigma}^{2R}_{t-1} + \\omega_i \\bar{\\sigma}^{2R}_{t} + v_{i,t} $$\n",
    "\n",
    "We idendified that:\n",
    "* Real exchange rate volatility is a lot more presistent in DMs than in EMs;\n",
    "* Nominal exchange rate volatility is the only significant component in EMs and DMs (at all levels - cov at 10%);\n",
    "* By far, the most significant \"exogenous\" driver of real exchange rate volatility is the group mean;\n",
    "* This extremely important for EMs\n",
    "* And this mean effect is much more significant when considering EMs and DMs separately"
   ]
  },
  {
   "cell_type": "markdown",
   "metadata": {
    "slideshow": {
     "slide_type": "slide"
    }
   },
   "source": [
    "# Daily Nominal FX Returns\n",
    "\n",
    "Following Engle & Martins (WP) we estimate the following one factor model to control for first moments:\n",
    "\n",
    "$$ r_{i,t} = \\alpha_i + \\beta_i f_t + e_{i,t} $$\n",
    "\n",
    "where $f_t$ is just the mean return of the exchange rates for day $t$. \n",
    "\n",
    "We do this in two settings:\n",
    "\n",
    "* Analysing one factor $f_t$ and considering all 29 countries as part of the same group\n",
    "* One $f^{EM}_t$ factor for EMs and $f^{DM}_t$ factor for DMs and proceeding separately for EMs and DMs"
   ]
  },
  {
   "cell_type": "markdown",
   "metadata": {
    "slideshow": {
     "slide_type": "slide"
    }
   },
   "source": [
    "# Looking at Daily Returns"
   ]
  },
  {
   "cell_type": "code",
   "execution_count": 34,
   "metadata": {
    "slideshow": {
     "slide_type": "subslide"
    }
   },
   "outputs": [],
   "source": [
    "# Selecting the set of countries\n",
    "countries = EMS+DMS\n",
    "\n",
    "# Calculating the mean factor\n",
    "f = r_fx[countries].mean(axis=1)\n",
    "\n",
    "# Estimating the mean factor model\n",
    "e={}\n",
    "b={}\n",
    "for country in countries:\n",
    "    res = est_ols_ar(r_fx[country], f)\n",
    "    #res = est_ols(r_fx[country], f)\n",
    "    e[country] = res.resid\n",
    "    b[country] = res.params\n",
    "e_hat = pd.concat(e, axis=1)\n",
    "betas = pd.concat(b, axis=1)\n",
    "\n",
    "# Estimating volatility\n",
    "e_hat10 = e_hat*10\n",
    "v = {}\n",
    "m = {}\n",
    "for country in e_hat10:\n",
    "    v[country] = garch11(e_hat10[country].dropna())  \n",
    "vol = pd.concat(v, axis=1)/10\n",
    "\n",
    "# Standard residuals\n",
    "std_e = e_hat/vol\n",
    "std_e2 = std_e**2"
   ]
  },
  {
   "cell_type": "code",
   "execution_count": 39,
   "metadata": {
    "slideshow": {
     "slide_type": "subslide"
    }
   },
   "outputs": [
    {
     "name": "stdout",
     "output_type": "stream",
     "text": [
      "Returns mean corr:0.29950985254566176\n",
      "Residuals mean corr: -0.020766336409844658\n"
     ]
    }
   ],
   "source": [
    "print(f\"Returns mean corr:{corr_list(r_fx[countries].corr()).mean()}\")\n",
    "print(f\"Residuals mean corr: {corr_list(e_hat.corr()).mean()}\")"
   ]
  },
  {
   "cell_type": "code",
   "execution_count": 7,
   "metadata": {},
   "outputs": [
    {
     "data": {
      "text/plain": [
       "<matplotlib.axes._subplots.AxesSubplot at 0x7fe7fce15d50>"
      ]
     },
     "execution_count": 7,
     "metadata": {},
     "output_type": "execute_result"
    },
    {
     "data": {
      "image/png": "[encoded data removed]",
      "text/plain": [
       "<Figure size 1080x288 with 2 Axes>"
      ]
     },
     "metadata": {
      "needs_background": "light"
     },
     "output_type": "display_data"
    }
   ],
   "source": [
    "fig, axes = plt.subplots(1, 2, figsize=(15,4))\n",
    "corr_list(r_fx[countries].corr()).hist(ax=axes[0])\n",
    "corr_list(e_hat.corr()).hist(ax=axes[1])"
   ]
  },
  {
   "cell_type": "code",
   "execution_count": 48,
   "metadata": {
    "slideshow": {
     "slide_type": "subslide"
    }
   },
   "outputs": [
    {
     "name": "stdout",
     "output_type": "stream",
     "text": [
      "Std residuals mean corr:-0.017287720399724735\n",
      "Squared std residuals mean corr: 0.071298782163384\n"
     ]
    }
   ],
   "source": [
    "print(f\"Std residuals mean corr:{corr_list(std_e.corr()).mean()}\")\n",
    "print(f\"Squared std residuals mean corr: {corr_list(std_e2.corr()).mean()}\")"
   ]
  },
  {
   "cell_type": "code",
   "execution_count": 9,
   "metadata": {
    "scrolled": false,
    "slideshow": {
     "slide_type": "subslide"
    }
   },
   "outputs": [
    {
     "data": {
      "text/plain": [
       "<matplotlib.axes._subplots.AxesSubplot at 0x7fe7fcff7a50>"
      ]
     },
     "execution_count": 9,
     "metadata": {},
     "output_type": "execute_result"
    },
    {
     "data": {
      "image/png": "[encoded data removed]",
      "text/plain": [
       "<Figure size 1080x288 with 2 Axes>"
      ]
     },
     "metadata": {
      "needs_background": "light"
     },
     "output_type": "display_data"
    }
   ],
   "source": [
    "fig, axes = plt.subplots(1, 2, figsize=(15,4))\n",
    "corr_list(std_e.corr()).hist(ax=axes[0])\n",
    "corr_list(std_e2.corr()).hist(ax=axes[1])"
   ]
  },
  {
   "cell_type": "code",
   "execution_count": null,
   "metadata": {},
   "outputs": [],
   "source": [
    "path = '/Users/talespadilha/Documents/Oxford/Research/Real Exchange Rate Volatility/Data Files/'\n",
    "# Importing GEOVOL data\n",
    "x_daily = pd.read_csv(path+'geovols/daily_all.csv', index_col=0)\n",
    "x_daily.index = pd.to_datetime(x_daily.index, format='%d/%m/%Y')\n",
    "s = pd.read_csv(path+'geovols/s_all.csv', index_col=0)\n",
    "x_monthly = x_daily.resample('MS').mean()"
   ]
  },
  {
   "cell_type": "markdown",
   "metadata": {
    "slideshow": {
     "slide_type": "slide"
    }
   },
   "source": [
    "# Lower Frequency - Monthly \"Realized\""
   ]
  },
  {
   "cell_type": "code",
   "execution_count": 104,
   "metadata": {
    "slideshow": {
     "slide_type": "subslide"
    }
   },
   "outputs": [
    {
     "name": "stdout",
     "output_type": "stream",
     "text": [
      "Std residuals mean corr:-0.01932434517462843\n",
      "Squared residuals mean corr: 0.18803533914148615\n"
     ]
    }
   ],
   "source": [
    "print(f\"Std residuals mean corr:{corr_list(std_e.resample('MS').mean().corr()).mean()}\")\n",
    "print(f\"Squared residuals mean corr: {corr_list(calc_rv(std_e).corr()).mean()}\")"
   ]
  },
  {
   "cell_type": "code",
   "execution_count": 105,
   "metadata": {
    "scrolled": true,
    "slideshow": {
     "slide_type": "-"
    }
   },
   "outputs": [
    {
     "data": {
      "text/plain": [
       "<matplotlib.axes._subplots.AxesSubplot at 0x7ff85c4ac090>"
      ]
     },
     "execution_count": 105,
     "metadata": {},
     "output_type": "execute_result"
    },
    {
     "data": {
      "image/png": "[encoded data removed]",
      "text/plain": [
       "<Figure size 1080x288 with 2 Axes>"
      ]
     },
     "metadata": {
      "needs_background": "light"
     },
     "output_type": "display_data"
    }
   ],
   "source": [
    "fig, axes = plt.subplots(1, 2, figsize=(15,4))\n",
    "corr_list(std_e.resample('MS').mean().corr()).hist(ax=axes[0])\n",
    "corr_list(calc_rv(std_e).corr()).hist(ax=axes[1])"
   ]
  },
  {
   "cell_type": "markdown",
   "metadata": {
    "slideshow": {
     "slide_type": "slide"
    }
   },
   "source": [
    "# Testing for GEOVOL"
   ]
  },
  {
   "cell_type": "code",
   "execution_count": 10,
   "metadata": {
    "slideshow": {
     "slide_type": "subslide"
    }
   },
   "outputs": [
    {
     "name": "stdout",
     "output_type": "stream",
     "text": [
      "20.78188616921844\n"
     ]
    }
   ],
   "source": [
    "psi = std_e2 - 1\n",
    "N = psi.shape[1]\n",
    "T = psi.shape[0]\n",
    "a=[]\n",
    "for i in range(N):\n",
    "    for j in range(i):\n",
    "        if i>j:\n",
    "            for t in range(T):\n",
    "                a.append(psi.iloc[t,i]*psi.iloc[t,j])\n",
    "a_series = pd.Series(a)\n",
    "b=[]\n",
    "for i in range(N):\n",
    "    for t in range(T):\n",
    "        b.append(psi.iloc[t,i]**2)\n",
    "b_series = pd.Series(b)\n",
    "xi = np.sqrt((N*T)/((N-1)/2)) * (a_series.sum()/b_series.sum())\n",
    "print(xi)"
   ]
  },
  {
   "cell_type": "markdown",
   "metadata": {
    "slideshow": {
     "slide_type": "slide"
    }
   },
   "source": [
    "# Way forward:\n",
    "\n",
    "It seems reasonable to focus on monthly realized volatility of standarized residuals. What do you think?\n",
    "\n",
    "If this remaining correlation comes from GEOVOL we would expect $\\frac{RV^{std_e}_m}{g(s_i\\bar{x}_m)}$ to be uncorrelated.\n",
    "\n",
    "Where $\\bar{x}_m$ is the monthly mean GEOVOL"
   ]
  }
 ],
 "metadata": {
  "celltoolbar": "Slideshow",
  "kernelspec": {
   "display_name": "Python 3",
   "language": "python",
   "name": "python3"
  },
  "language_info": {
   "codemirror_mode": {
    "name": "ipython",
    "version": 3
   },
   "file_extension": ".py",
   "mimetype": "text/x-python",
   "name": "python",
   "nbconvert_exporter": "python",
   "pygments_lexer": "ipython3",
   "version": "3.7.6"
  }
 },
 "nbformat": 4,
 "nbformat_minor": 4
}
